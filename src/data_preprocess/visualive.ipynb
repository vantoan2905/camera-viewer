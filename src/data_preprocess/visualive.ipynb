{
 "cells": [
  {
   "cell_type": "markdown",
   "id": "876f76fd",
   "metadata": {},
   "source": [
    "# Frame the Problem and Look at the Big Picture"
   ]
  },
  {
   "cell_type": "code",
   "execution_count": 4,
   "id": "8dd13105",
   "metadata": {},
   "outputs": [],
   "source": [
    "import os\n",
    "import cv2\n",
    "import numpy as np\n",
    "import pandas as pd\n",
    "import matplotlib.pyplot as plt\n",
    "\n",
    "\n",
    "\n",
    "\n"
   ]
  },
  {
   "cell_type": "code",
   "execution_count": 5,
   "id": "7bc8e2b0",
   "metadata": {},
   "outputs": [
    {
     "ename": "KeyboardInterrupt",
     "evalue": "",
     "output_type": "error",
     "traceback": [
      "\u001b[1;31m---------------------------------------------------------------------------\u001b[0m",
      "\u001b[1;31mKeyboardInterrupt\u001b[0m                         Traceback (most recent call last)",
      "Cell \u001b[1;32mIn[5], line 23\u001b[0m\n\u001b[0;32m     20\u001b[0m         \u001b[38;5;28mprint\u001b[39m(\u001b[38;5;124mf\u001b[39m\u001b[38;5;124m\"\u001b[39m\u001b[38;5;124mOnly \u001b[39m\u001b[38;5;132;01m{\u001b[39;00mnum_samples\u001b[38;5;132;01m}\u001b[39;00m\u001b[38;5;124m samples found in the directory.\u001b[39m\u001b[38;5;124m\"\u001b[39m)\n\u001b[0;32m     22\u001b[0m \u001b[38;5;66;03m# Example usage\u001b[39;00m\n\u001b[1;32m---> 23\u001b[0m \u001b[43mshow_sample_data\u001b[49m\u001b[43m(\u001b[49m\u001b[43mdata_path\u001b[49m\u001b[43m,\u001b[49m\u001b[43m \u001b[49m\u001b[43mnum_samples\u001b[49m\u001b[38;5;241;43m=\u001b[39;49m\u001b[38;5;241;43m5\u001b[39;49m\u001b[43m)\u001b[49m\n",
      "Cell \u001b[1;32mIn[5], line 14\u001b[0m, in \u001b[0;36mshow_sample_data\u001b[1;34m(data_path, num_samples)\u001b[0m\n\u001b[0;32m     12\u001b[0m img \u001b[38;5;241m=\u001b[39m cv2\u001b[38;5;241m.\u001b[39mimread(os\u001b[38;5;241m.\u001b[39mpath\u001b[38;5;241m.\u001b[39mjoin(root, file))\n\u001b[0;32m     13\u001b[0m cv2\u001b[38;5;241m.\u001b[39mimshow(\u001b[38;5;124m\"\u001b[39m\u001b[38;5;124mSample Data\u001b[39m\u001b[38;5;124m\"\u001b[39m, img)\n\u001b[1;32m---> 14\u001b[0m \u001b[43mcv2\u001b[49m\u001b[38;5;241;43m.\u001b[39;49m\u001b[43mwaitKey\u001b[49m\u001b[43m(\u001b[49m\u001b[38;5;241;43m0\u001b[39;49m\u001b[43m)\u001b[49m\n\u001b[0;32m     15\u001b[0m cv2\u001b[38;5;241m.\u001b[39mdestroyAllWindows()\n\u001b[0;32m     16\u001b[0m num_samples \u001b[38;5;241m-\u001b[39m\u001b[38;5;241m=\u001b[39m \u001b[38;5;241m1\u001b[39m\n",
      "\u001b[1;31mKeyboardInterrupt\u001b[0m: "
     ]
    }
   ],
   "source": [
    "# show sample data from a file\n",
    "\n",
    "\n",
    "\n",
    "\n",
    "data_path = r\"D:\\object_detect_tracking\\camera-viewer\\data\\WindTurbines_CableTower_Copy\"\n",
    "\n",
    "def show_sample_data(data_path, num_samples=5):\n",
    "    for root, dirs, files in os.walk(data_path):\n",
    "        for file in files:\n",
    "            if file.endswith(\".jpg\"):\n",
    "                img = cv2.imread(os.path.join(root, file))\n",
    "                cv2.imshow(\"Sample Data\", img)\n",
    "                cv2.waitKey(0)\n",
    "                cv2.destroyAllWindows()\n",
    "                num_samples -= 1\n",
    "                if num_samples == 0:\n",
    "                    break\n",
    "    if num_samples > 0:\n",
    "        print(f\"Only {num_samples} samples found in the directory.\")\n",
    "        \n",
    "# Example usage\n",
    "show_sample_data(data_path, num_samples=5)\n"
   ]
  },
  {
   "cell_type": "code",
   "execution_count": 3,
   "id": "954cebae",
   "metadata": {},
   "outputs": [
    {
     "ename": "ModuleNotFoundError",
     "evalue": "No module named 'defect_preprocess'",
     "output_type": "error",
     "traceback": [
      "\u001b[1;31m---------------------------------------------------------------------------\u001b[0m",
      "\u001b[1;31mModuleNotFoundError\u001b[0m                       Traceback (most recent call last)",
      "Cell \u001b[1;32mIn[3], line 1\u001b[0m\n\u001b[1;32m----> 1\u001b[0m \u001b[38;5;28;01mfrom\u001b[39;00m\u001b[38;5;250m \u001b[39m\u001b[38;5;21;01mdefect_preprocess\u001b[39;00m\u001b[38;5;21;01m.\u001b[39;00m\u001b[38;5;21;01mnoise\u001b[39;00m\u001b[38;5;250m \u001b[39m\u001b[38;5;28;01mimport\u001b[39;00m Noise\n\u001b[0;32m      3\u001b[0m path_img \u001b[38;5;241m=\u001b[39m \u001b[38;5;124m\"\u001b[39m\u001b[38;5;124mD:\u001b[39m\u001b[38;5;124m\\\u001b[39m\u001b[38;5;124mobject_detect_tracking\u001b[39m\u001b[38;5;124m\\\u001b[39m\u001b[38;5;124mcamera-viewer\u001b[39m\u001b[38;5;124m\\\u001b[39m\u001b[38;5;124mdata\u001b[39m\u001b[38;5;124m\\\u001b[39m\u001b[38;5;124mWindTurbines_CableTower_Copy\u001b[39m\u001b[38;5;130;01m\\t\u001b[39;00m\u001b[38;5;124mrain\u001b[39m\u001b[38;5;124m\\\u001b[39m\u001b[38;5;124mimages\u001b[39m\u001b[38;5;124m\\\u001b[39m\u001b[38;5;124mcabletower5_jpg.rf.cfedbcd99c645625f01b2e0f780936a2.jpg\u001b[39m\u001b[38;5;124m\"\u001b[39m\n\u001b[0;32m      4\u001b[0m noise \u001b[38;5;241m=\u001b[39m Noise(path_img)\n",
      "\u001b[1;31mModuleNotFoundError\u001b[0m: No module named 'defect_preprocess'"
     ]
    }
   ],
   "source": [
    "from defect_preprocess.noise import Noise\n",
    "\n",
    "path_img = \"D:\\object_detect_tracking\\camera-viewer\\data\\WindTurbines_CableTower_Copy\\train\\images\\cabletower5_jpg.rf.cfedbcd99c645625f01b2e0f780936a2.jpg\"\n",
    "noise = Noise(path_img)\n",
    "\n",
    "median_filtered = noise.MedianFilter()\n",
    "tv_filtered = noise.TotalVariationFilter()\n",
    "gaussian_noisy = noise.GaussianNoise()\n",
    "\n",
    "noise.save_image(median_filtered, \"output_median.jpg\")\n"
   ]
  },
  {
   "cell_type": "code",
   "execution_count": 4,
   "id": "74be4c25",
   "metadata": {},
   "outputs": [
    {
     "name": "stdout",
     "output_type": "stream",
     "text": [
      "camera-viewer/\n",
      "    .env\n",
      "    .gitignore\n",
      "    README.md\n",
      "    requirements.txt\n",
      "    src/\n",
      "        main.py\n",
      "        object_detection.py\n",
      "        yolo_test.py\n",
      "        model/\n",
      "            DETR/\n",
      "            Faster R-CNN/\n",
      "            yolo/\n",
      "                backbone.py\n",
      "                head.py\n",
      "                neck.py\n",
      "                yolo_net.py\n"
     ]
    }
   ],
   "source": [
    "import os\n",
    "\n",
    "def show_project_structure(data_path):\n",
    "    for root, dirs, files in os.walk(data_path):\n",
    "        # Skip folders containing 'data', '__pycache__', or '.git'\n",
    "        if any(x in root for x in ['data', '__pycache__', '.git']):\n",
    "            continue\n",
    "\n",
    "        level = root.replace(data_path, '').count(os.sep)\n",
    "        indent = ' ' * 4 * level\n",
    "        print(f\"{indent}{os.path.basename(root)}/\")\n",
    "\n",
    "        subindent = ' ' * 4 * (level + 1)\n",
    "        for f in files:\n",
    "            print(f\"{subindent}{f}\")\n",
    "\n",
    "# Example usage\n",
    "data_path = r\"D:\\object_detect_tracking\\camera-viewer\"\n",
    "show_project_structure(data_path)\n"
   ]
  },
  {
   "cell_type": "code",
   "execution_count": null,
   "id": "9ff4dd0d",
   "metadata": {},
   "outputs": [],
   "source": []
  }
 ],
 "metadata": {
  "kernelspec": {
   "display_name": "My_ai_env",
   "language": "python",
   "name": "python3"
  },
  "language_info": {
   "codemirror_mode": {
    "name": "ipython",
    "version": 3
   },
   "file_extension": ".py",
   "mimetype": "text/x-python",
   "name": "python",
   "nbconvert_exporter": "python",
   "pygments_lexer": "ipython3",
   "version": "3.10.16"
  }
 },
 "nbformat": 4,
 "nbformat_minor": 5
}
